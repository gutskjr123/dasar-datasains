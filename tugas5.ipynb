{
  "nbformat": 4,
  "nbformat_minor": 0,
  "metadata": {
    "colab": {
      "provenance": []
    },
    "kernelspec": {
      "name": "python3",
      "display_name": "Python 3"
    },
    "language_info": {
      "name": "python"
    }
  },
  "cells": [
    {
      "cell_type": "code",
      "execution_count": null,
      "metadata": {
        "id": "M4yjgyibxp-U"
      },
      "outputs": [],
      "source": [
        "import statistics\n",
        "import pandas as pd\n",
        "import numpy as np\n",
        "from scipy import stats\n",
        "import matplotlib.pyplot as plt"
      ]
    },
    {
      "cell_type": "code",
      "source": [
        "print(\"========soal1=============\")\n",
        "\n",
        "karyawan_a = 20\n",
        "asurasnsi_a =75000\n",
        "jml_a = (karyawan_a * 300000) + (asurasnsi_a * karyawan_a)\n",
        "print(\"jumlah pengeluaran gaji + asuransi setiap perusahaan adalah A-Xis : RP.\" +str(jml_a))\n",
        "\n",
        "karyawan_b = 14\n",
        "asurasnsi_b =75000\n",
        "jml_b = (karyawan_b * 360000) + (asurasnsi_b * karyawan_b)\n",
        "print(\"jumlah pengeluaran gaji + asuransi setiap perusahaan adalah B-bLog: RP.\" +str(jml_b))\n",
        "\n",
        "karyawan_c = 28\n",
        "asurasnsi_c =75000\n",
        "jml_c = (karyawan_c * 475000) + (asurasnsi_c * karyawan_c)\n",
        "print(\"jumlah pengeluaran gaji + asuransi setiap perusahaan adalah C-In: RP.\" +str(jml_c))\n",
        "\n",
        "karyawan_d = 42\n",
        "asurasnsi_d =75000\n",
        "jml_d = (karyawan_d * 580000) + (asurasnsi_d * karyawan_d)\n",
        "print(\"jumlah pengeluaran gaji + asuransi setiap perusahaan adalah d-namic: RP.\" +str(jml_d))\n",
        "\n",
        "karyawan_e = 18\n",
        "asurasnsi_e =75000\n",
        "jml_e = (karyawan_e * 400000) + (asurasnsi_e * karyawan_e)\n",
        "print(\"jumlah pengeluaran gaji + asuransi setiap perusahaan adalah E-Psion: RP.\" +str(jml_e))\n",
        "print()\n",
        "\n"
      ],
      "metadata": {
        "colab": {
          "base_uri": "https://localhost:8080/"
        },
        "id": "hJYaoqNTy-ih",
        "outputId": "ace67b9a-6cde-4705-c7fe-5a5c28c84f86"
      },
      "execution_count": null,
      "outputs": [
        {
          "output_type": "stream",
          "name": "stdout",
          "text": [
            "========soal1=============\n",
            "jumlah pengeluaran gaji + asuransi setiap perusahaan adalah A-Xis : RP.7500000\n",
            "jumlah pengeluaran gaji + asuransi setiap perusahaan adalah B-bLog: RP.6090000\n",
            "jumlah pengeluaran gaji + asuransi setiap perusahaan adalah C-In: RP.15400000\n",
            "jumlah pengeluaran gaji + asuransi setiap perusahaan adalah d-namic: RP.27510000\n",
            "jumlah pengeluaran gaji + asuransi setiap perusahaan adalah E-Psion: RP.8550000\n",
            "\n"
          ]
        }
      ]
    },
    {
      "cell_type": "code",
      "source": [
        "\n",
        "utang1 = 0.08\n",
        "utang2 = 0.04\n",
        "utang3 = 0.12\n",
        "utang4 = 0.11\n",
        "utang5 = 0.03\n",
        "pajak = 0.03\n",
        "\n",
        "laba1 = 32500000\n",
        "laba2 = 31000000\n",
        "laba3 = 42000000\n",
        "laba4 = 51500000\n",
        "laba5 = 37000000\n",
        "hasil = (laba1 * pajak ) + (utang1 * 280000000 )\n",
        "print(\"maka setahun perusahan  A-Xis : RP.\" +str(hasil))\n",
        "\n",
        "hasil = (laba2 * pajak ) + (utang2 * 310000000 )\n",
        "print(\"maka setahun perusahan   B-bLog : RP.\" +str(hasil))\n",
        "\n",
        "hasil = (laba3 * pajak ) + (utang3 * 420000000 )\n",
        "print(\"maka setahun perusahan   C-In : RP.\" +str(hasil))\n",
        "\n",
        "\n",
        "hasil = (laba4 * pajak ) + (utang4 * 550000000 )\n",
        "print(\"maka setahun perusahan  d-namic: RP.\" +str(hasil))\n",
        "\n",
        "hasil = (laba5 * pajak ) + (utang5 * 340000000 )\n",
        "print(\"maka setahun perusahan  E-Psion: RP.\" +str(hasil))\n",
        "\n",
        "print(\"\")\n",
        "fig = plt.figure()\n",
        "ax = fig.add_axes([0,0,1,1])\n",
        "ax.axis('equal')\n",
        "perusahaan = [\"A-Xis\", \"B-bLog \", \" C-In\",'d-namic','E-Psion']\n",
        "pajak = [23375000.0, 13330000.0, 51660000.0,62045000.0,11310000.0]\n",
        "ax.pie(pajak, labels=perusahaan,autopct='%1.2f%%')\n",
        "plt.title(\"maka setahun perusahan \")\n",
        "plt.show()\n",
        "\n",
        "\n"
      ],
      "metadata": {
        "colab": {
          "base_uri": "https://localhost:8080/",
          "height": 439
        },
        "id": "cxfvZ_akhdfH",
        "outputId": "f014b530-c7ef-478a-b52f-0764a502aaf0"
      },
      "execution_count": null,
      "outputs": [
        {
          "output_type": "stream",
          "name": "stdout",
          "text": [
            "maka setahun perusahan  A-Xis : RP.23375000.0\n",
            "maka setahun perusahan   B-bLog : RP.13330000.0\n",
            "maka setahun perusahan   C-In : RP.51660000.0\n",
            "maka setahun perusahan  d-namic: RP.62045000.0\n",
            "maka setahun perusahan  E-Psion: RP.11310000.0\n",
            "\n"
          ]
        },
        {
          "output_type": "display_data",
          "data": {
            "text/plain": [
              "<Figure size 432x288 with 1 Axes>"
            ],
            "image/png": "[encoded data removed]"
          },
          "metadata": {}
        }
      ]
    },
    {
      "cell_type": "code",
      "source": [
        "print(\"======tugas 3======\")\n",
        "asset1 = 280000000\n",
        "asset2 = 310000000\n",
        "asset3 = 420000000\n",
        "asset4 = 550000000\n",
        "asset5 = 340000000\n",
        "csr =0.025\n",
        "csr2 =0.035\n",
        "hasil_1 = asset1 * csr\n",
        "hasil_2 = asset2 * csr\n",
        "hasil_3 = asset3 * csr\n",
        "hasil_4 = asset4 * csr\n",
        "hasil_5 = asset5 * csr\n",
        "print(\"maka csr perusahaan 1 adalah : \" + str(hasil_1))\n",
        "print(\"maka csr perusahaan 2 adalah : \" + str(hasil_2))\n",
        "print(\"maka csr perusahaan 3 adalah : \" + str(hasil_3))\n",
        "print(\"maka csr perusahaan 4 adalah : \" + str(hasil_4))\n",
        "print(\"maka csr perusahaan 5 adalah : \" + str(hasil_5))\n",
        "\n",
        "fig = plt.figure()\n",
        "ax = fig.add_axes([0,0,1,1])\n",
        "perusahaan = [\"A-Xis\", \"B-bLog \", \" C-In\",'d-namic','E-Psion']\n",
        "pajak = [7000000.0,  7750000.0, 10500000.,13750000.0,500000.0]\n",
        "c = ['red','green','blue','red','green','blue','black']   \n",
        "ax.pie(pajak, labels=perusahaan,autopct='%1.2f%%')\n",
        "plt.title(\"maka setahun perusahan \")\n",
        "plt.show()        \n",
        "\n",
        "print(\"\")\n",
        "\n",
        "fig = plt.figure()\n",
        "ax = fig.add_axes([0,0,1,1])\n",
        "perusahaan = [\"A-Xis\", \"B-bLog \", \" C-In\",\"d-namic\",'E-Psion']\n",
        "pajak = [7000000.0,  7750000.0, 10500000.,13750000.0,500000.0]\n",
        "c = ['red','green','blue','red','green','blue','black']\n",
        "plt.title(\"maka setahun perusahan\")\n",
        "ax.bar(perusahaan, pajak, color = c)            \n",
        "plt.show()"
      ],
      "metadata": {
        "colab": {
          "base_uri": "https://localhost:8080/",
          "height": 792
        },
        "id": "Wn6EpQnXnD2G",
        "outputId": "4b2cbf95-2085-49ba-89b9-f1009bb41914"
      },
      "execution_count": null,
      "outputs": [
        {
          "output_type": "stream",
          "name": "stdout",
          "text": [
            "======tugas 3======\n",
            "maka csr perusahaan 1 adalah : 7000000.0\n",
            "maka csr perusahaan 2 adalah : 7750000.0\n",
            "maka csr perusahaan 3 adalah : 10500000.0\n",
            "maka csr perusahaan 4 adalah : 13750000.0\n",
            "maka csr perusahaan 5 adalah : 8500000.0\n"
          ]
        },
        {
          "output_type": "display_data",
          "data": {
            "text/plain": [
              "<Figure size 432x288 with 1 Axes>"
            ],
            "image/png": "[encoded data removed]"
          },
          "metadata": {}
        },
        {
          "output_type": "stream",
          "name": "stdout",
          "text": [
            "\n"
          ]
        },
        {
          "output_type": "display_data",
          "data": {
            "text/plain": [
              "<Figure size 432x288 with 1 Axes>"
            ],
            "image/png": "[encoded data removed]"
          },
          "metadata": {
            "needs_background": "light"
          }
        }
      ]
    },
    {
      "cell_type": "code",
      "source": [
        "print(\"======tugas 4======\")\n",
        "laba1 = 32500000\n",
        "laba2 = 31000000\n",
        "laba3 = 42000000\n",
        "laba4 = 515000000\n",
        "laba5 = 27000000\n",
        "\n",
        "hasil = laba1 * 12\n",
        "hasil2 = laba2 * 12\n",
        "hasil3 = laba3 * 12\n",
        "hasil4 = laba4 * 12\n",
        "hasil5 = laba5 * 12\n",
        "\n",
        "print(\"maka laba perusahaan A-Xis adalah \" + str(hasil))\n",
        "print(\"maka laba perusahaan A-Xis adalah \" + str(hasil2))\n",
        "print(\"maka laba perusahaan A-Xis adalah \" + str(hasil3))\n",
        "print(\"maka laba perusahaan A-Xis adalah \" + str(hasil4))\n",
        "print(\"maka laba perusahaan A-Xis adalah \" + str(hasil5))\n"
      ],
      "metadata": {
        "colab": {
          "base_uri": "https://localhost:8080/"
        },
        "id": "BhYCzuTFiDTA",
        "outputId": "eaa52e39-5490-4f3c-a59f-ba4458c8a692"
      },
      "execution_count": 18,
      "outputs": [
        {
          "output_type": "stream",
          "name": "stdout",
          "text": [
            "======tugas 4======\n",
            "maka laba perusahaan A-Xis adalah 390000000\n",
            "maka laba perusahaan A-Xis adalah 372000000\n",
            "maka laba perusahaan A-Xis adalah 504000000\n",
            "maka laba perusahaan A-Xis adalah 6180000000\n",
            "maka laba perusahaan A-Xis adalah 324000000\n"
          ]
        }
      ]
    },
    {
      "cell_type": "code",
      "source": [
        "print(\"======tugas 5\")\n",
        "laba = 32500000\n",
        "laba2 = 31000000\n",
        "laba3 = 42000000\n",
        "laba4 = 515000000\n",
        "laba5 = 27000000\n",
        "\n",
        "gaji1 =\n",
        "gaji2 =\n",
        "gaji3 =\n",
        "gaji4 =\n",
        "gaji5 = "
      ],
      "metadata": {
        "id": "7G9KcEPjg0wd"
      },
      "execution_count": null,
      "outputs": []
    }
  ]
}